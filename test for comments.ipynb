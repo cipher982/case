{
 "cells": [
  {
   "cell_type": "markdown",
   "metadata": {},
   "source": [
    "# Choosing the Ideal Job Type for an Applicant\n",
    "\n",
    "### Using clustering analysis to find the right fit\n",
    "\n",
    "In the previous project, an attempt was made to create a best-fit model to predict the future success of a worker brought on by a recruiter. In this project, we will see if we can predict the best type of work for a new recruit, to help guarantee success in the future."
   ]
  },
  {
   "cell_type": "markdown",
   "metadata": {},
   "source": [
    "### 1. Pull in and pre-process data"
   ]
  },
  {
   "cell_type": "code",
   "execution_count": 2,
   "metadata": {
    "collapsed": true
   },
   "outputs": [],
   "source": [
    "# Import libraries\n",
    "import numpy as np\n",
    "import pandas as pd"
   ]
  },
  {
   "cell_type": "code",
   "execution_count": 3,
   "metadata": {
    "collapsed": false
   },
   "outputs": [
    {
     "name": "stdout",
     "output_type": "stream",
     "text": [
      "worker data read successfully!\n"
     ]
    }
   ],
   "source": [
    "# Read in the worker data\n",
    "\n",
    "xls_file = pd.ExcelFile(\"Origami_Data.xlsx\", encoding = 'utf-8')\n",
    "worker_data = xls_file.parse('Client Information')\n",
    "print \"worker data read successfully!\""
   ]
  },
  {
   "cell_type": "code",
   "execution_count": 13,
   "metadata": {
    "collapsed": false
   },
   "outputs": [
    {
     "data": {
      "text/plain": [
       "u\"Good worker. Willing to work extra hours. Seems to have working knowledge but hard to keep them at the office Like the process but definitely not a good fit with this candidate Was late to work  You need better screening before sending us people Late to work Once we found a good fit for them, they have been doing well Thank you for finding someone. Simply didn\\u2019t work out. Works a lot, promotion is going to be given Employee retired Hard to balance their schedule with health needs Fantastic worker Happy so far with the placement Health issues on the job. Not a good fit. Manual labor was too tiring.  Error rate was unnaceptable Many unscheduled absences No reliable mode of transportation Your process made this very difficult Thank you  Thank you for finding a good fit such short notice Have enjoyed his work immensely Thank you for continued partnership Happy so far with the placement thx Not impressed with you or employee simply didn't work. She quit 2 weeks in We get a lot of people by the has worked out so far Not happy with the process. Took way too long to find placement Good fit Late to work. Did not follow instruction well No reliable mode of transportation Constantly late You did not do a good job with the fit. Interview more thoroughly Heavy manual labor for someone his age. Felt like it was a health risk. Your job to catch this and I'm a little let down. NEVER SHOWED UP FOR WORK Very dissapointed. Didn't have the skills we were asking for. Never using the company again for finding future employees Love the employee Thank you for finding such a fast fit Exactly who we needed Wasn\\u2019t able to do the work Great service! The worker just didn\\u2019t work this time. Thank you for everything He got moved to full time at our company, so on paper this looks negative for y'all, but I just want you to know it wasn't a bad thing I don't like your service. Gave y'all a shot but not worth it with the bonus and annual feel. Moving hiring to all internal Thank you!  Not happy with this employee but overall great company Error rate was unnaceptable Late  Caught stealing from register. Immediately terminated.  THANKS Annual fee is not worth this service Can we have more resources on training new employees\""
      ]
     },
     "execution_count": 13,
     "metadata": {},
     "output_type": "execute_result"
    }
   ],
   "source": [
    "comments = worker_data[\"Comments from the employer\"]\n",
    "\n",
    "type(comments)\n",
    "\n",
    "pd.Series(comments).str.cat(sep=' ')"
   ]
  },
  {
   "cell_type": "code",
   "execution_count": 19,
   "metadata": {
    "collapsed": false
   },
   "outputs": [
    {
     "name": "stdout",
     "output_type": "stream",
     "text": [
      "Number of workers in the office field: 93\n",
      "Number of workers in the manual labor field: 96\n"
     ]
    }
   ],
   "source": [
    "n_office = np.shape(worker_data[worker_data['OFFICE/MANUAL']=='OFFICE'])[0]\n",
    "n_manual = np.shape(worker_data[worker_data['OFFICE/MANUAL']=='MANUAL'])[0]\n",
    "\n",
    "print \"Number of workers in the office field: {}\".format(n_office)\n",
    "print \"Number of workers in the manual labor field: {}\".format(n_manual)"
   ]
  },
  {
   "cell_type": "markdown",
   "metadata": {},
   "source": [
    "#### Clean up values\n",
    "First make sure to clean up non-consistent data in columns state and gender"
   ]
  },
  {
   "cell_type": "code",
   "execution_count": 20,
   "metadata": {
    "collapsed": false
   },
   "outputs": [],
   "source": [
    "# Make all state data shorthand and include gender only with M or F\n",
    "worker_data['State'] = map(lambda x: x.lower(), worker_data['State'])\n",
    "worker_data = worker_data.replace({'alabama':'al','florida':'fl','georgia':'ga','south carolina':'sc','louisiana':'la'}, regex=True)\n",
    "states = ['al','fl','ga','la','sc']\n",
    "worker_data = worker_data.loc[worker_data['State'].isin(states)]\n",
    "gender = ['M','F']\n",
    "worker_data = worker_data.loc[worker_data['Gender'].isin(gender)]\n",
    "\n",
    "# Remove NaN\n",
    "worker_data2 = worker_data.dropna(axis = 0, how = 'any', subset = ['Employed In Past 6 Months','Gender','Age','State','Education Level'])\n"
   ]
  },
  {
   "cell_type": "code",
   "execution_count": 21,
   "metadata": {
    "collapsed": true
   },
   "outputs": [],
   "source": [
    "# Extract feature (X) and target (y) columns, and removing ID and Comments columns\n",
    "feature_cols = ['Employed In Past 6 Months','Age','OFFICE/MANUAL','State','Education Level','Gender']\n",
    "target_col = ['Placement Successful']\n",
    "\n",
    "\n",
    "x_all = worker_data2[feature_cols]\n",
    "y_all = worker_data2[target_col]"
   ]
  },
  {
   "cell_type": "markdown",
   "metadata": {},
   "source": [
    "#### Preprocess feature columns\n",
    "\n",
    "It turns out there are a few non-numeric columns that need to be converted! One of them is simply `yes`/`no`, e.g. `'Employed In Past 6 Months'`. This can be reasonably converted into `1`/`0` (binary) values.\n",
    "\n",
    "Other columns, like `State` and `Education Level`, have more than two values, and are known as _categorical variables_. The recommended way to handle such a column is to create as many columns as possible values (e.g. `AL`, `GA`, `FL`, etc.), and assign a `1` to one of them and `0` to all others.\n",
    "\n",
    "These generated columns are called _dummy variables_, and so we will use the [`pandas.get_dummies()`](http://pandas.pydata.org/pandas-docs/stable/generated/pandas.get_dummies.html?highlight=get_dummies#pandas.get_dummies) function to create these columns."
   ]
  }
 ],
 "metadata": {
  "anaconda-cloud": {},
  "kernelspec": {
   "display_name": "Python [Root]",
   "language": "python",
   "name": "Python [Root]"
  },
  "language_info": {
   "codemirror_mode": {
    "name": "ipython",
    "version": 2
   },
   "file_extension": ".py",
   "mimetype": "text/x-python",
   "name": "python",
   "nbconvert_exporter": "python",
   "pygments_lexer": "ipython2",
   "version": "2.7.11"
  }
 },
 "nbformat": 4,
 "nbformat_minor": 0
}
