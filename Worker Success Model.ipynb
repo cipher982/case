{
 "cells": [
  {
   "cell_type": "markdown",
   "metadata": {
    "nbpresent": {
     "id": "057cf38f-921f-497d-bb76-7b5ebdeaf63f"
    }
   },
   "source": [
    "# Predicting Successful Workers\n",
    "### Using models to find what makes the best employees"
   ]
  },
  {
   "cell_type": "markdown",
   "metadata": {
    "nbpresent": {
     "id": "f1bf2f74-422a-4f59-88f9-b48be98d8f19"
    }
   },
   "source": [
    "### 1. Exploring the Data\n",
    " First we will read in the code using Python 2.7 and Pandas"
   ]
  },
  {
   "cell_type": "code",
   "execution_count": 1,
   "metadata": {
    "collapsed": true,
    "nbpresent": {
     "id": "d78c76d0-f33b-4f6d-a221-57337fe891e1"
    }
   },
   "outputs": [],
   "source": [
    "# Import libraries\n",
    "import numpy as np\n",
    "import pandas as pd"
   ]
  },
  {
   "cell_type": "code",
   "execution_count": 2,
   "metadata": {
    "collapsed": false,
    "nbpresent": {
     "id": "3bd821e0-cd0e-46ae-8597-47f03cea16d0"
    },
    "scrolled": true
   },
   "outputs": [
    {
     "name": "stdout",
     "output_type": "stream",
     "text": [
      "worker data read successfully!\n"
     ]
    }
   ],
   "source": [
    "# Read in the worker data\n",
    "\n",
    "xls_file = pd.ExcelFile(\"Origami_Data.xlsx\")\n",
    "worker_data = xls_file.parse('Client Information')\n",
    "print \"worker data read successfully!\""
   ]
  },
  {
   "cell_type": "markdown",
   "metadata": {
    "nbpresent": {
     "id": "c196883c-c326-4126-b853-02c31deef2b0"
    }
   },
   "source": [
    "Now let's to some basic exploratory analysis:"
   ]
  },
  {
   "cell_type": "code",
   "execution_count": 3,
   "metadata": {
    "collapsed": false,
    "nbpresent": {
     "id": "49f90d79-8b74-4d0e-adad-3b91ae52df90"
    }
   },
   "outputs": [
    {
     "name": "stdout",
     "output_type": "stream",
     "text": [
      "Total number of placements: 199\n",
      "Number of workers who succeeded: 123\n",
      "Number of workers who failed: 76\n",
      "Number of features: 9\n",
      "Successful placements after 6 months: 61.81%\n"
     ]
    }
   ],
   "source": [
    "n_workers  = np.shape(worker_data)[0]\n",
    "n_features = np.shape(worker_data)[1]\n",
    "n_passed = np.shape(worker_data[worker_data['Placement Successful']=='Y'])[0]\n",
    "n_failed = np.shape(worker_data[worker_data['Placement Successful']=='N'])[0]\n",
    "success_rate = float(n_passed) / float(n_workers)*100\n",
    "print \"Total number of placements: {}\".format(n_workers)\n",
    "print \"Number of workers who succeeded: {}\".format(n_passed)\n",
    "print \"Number of workers who failed: {}\".format(n_failed)\n",
    "print \"Number of features: {}\".format(n_features)\n",
    "print \"Successful placements after 6 months: {:.2f}%\".format(success_rate)"
   ]
  },
  {
   "cell_type": "markdown",
   "metadata": {
    "nbpresent": {
     "id": "b58088e1-edd4-44e7-b6bf-7e9c3719310e"
    }
   },
   "source": [
    "### 2. Preparing the Data\n",
    "In this section, we will prepare the data for modeling, training and testing.\n",
    "\n",
    "#### Clean up values\n",
    "First make sure to clean up non-consistent data in columns state and gender\n"
   ]
  },
  {
   "cell_type": "code",
   "execution_count": 4,
   "metadata": {
    "collapsed": false,
    "nbpresent": {
     "id": "e1772b75-20f8-46dc-a05b-cb6bd6a2b94e"
    }
   },
   "outputs": [],
   "source": [
    "# Make all state data shorthand and include gender only with M or F\n",
    "worker_data['State'] = map(lambda x: x.lower(), worker_data['State'])\n",
    "worker_data = worker_data.replace({'alabama':'al','florida':'fl','georgia':'ga','south carolina':'sc','louisiana':'la'}, regex=True)\n",
    "states = ['al','fl','ga','la','sc']\n",
    "worker_data = worker_data.loc[worker_data['State'].isin(states)]\n",
    "gender = ['M','F']\n",
    "worker_data = worker_data.loc[worker_data['Gender'].isin(gender)]\n",
    "\n",
    "# Remove NaN\n",
    "worker_data2 = worker_data.dropna(axis = 0, how = 'any', subset = ['Employed In Past 6 Months','Gender','Age','State','Education Level'])\n"
   ]
  },
  {
   "cell_type": "markdown",
   "metadata": {
    "nbpresent": {
     "id": "61a1271a-ab57-41f8-b6c3-3b6829a2caf8"
    }
   },
   "source": [
    "#### Identify feature and target columns\n",
    "\n",
    "Now let's separate our data into feature and target columns, and see which features are non-numeric.<br/>\n",
    "**Note**: For this dataset, the column (`'Placement Successful'`) is the target feature"
   ]
  },
  {
   "cell_type": "code",
   "execution_count": 5,
   "metadata": {
    "collapsed": false,
    "nbpresent": {
     "id": "60ab27b4-975e-4e90-970e-f8ceeb95233c"
    }
   },
   "outputs": [],
   "source": [
    "# Extract feature (X) and target (y) columns, and removing ID and Comments columns\n",
    "feature_cols = ['Employed In Past 6 Months','Gender','Age','State','Education Level','OFFICE/MANUAL']\n",
    "target_col = ['Placement Successful']\n",
    "\n",
    "x_all = worker_data2[feature_cols]\n",
    "y_all = worker_data2[target_col]"
   ]
  },
  {
   "cell_type": "markdown",
   "metadata": {
    "nbpresent": {
     "id": "411124af-59f1-4979-a890-dfd6eaf0568a"
    }
   },
   "source": [
    "#### Preprocess feature columns\n",
    "\n",
    "It turns out there are a few non-numeric columns that need to be converted! One of them is simply `yes`/`no`, e.g. `'Employed In Past 6 Months'`. This can be reasonably converted into `1`/`0` (binary) values.\n",
    "\n",
    "Other columns, like `State` and `Education Level`, have more than two values, and are known as _categorical variables_. The recommended way to handle such a column is to create as many columns as possible values (e.g. `AL`, `GA`, `FL`, etc.), and assign a `1` to one of them and `0` to all others.\n",
    "\n",
    "These generated columns are called _dummy variables_, and so we will use the [`pandas.get_dummies()`](http://pandas.pydata.org/pandas-docs/stable/generated/pandas.get_dummies.html?highlight=get_dummies#pandas.get_dummies) function to create these columns."
   ]
  },
  {
   "cell_type": "code",
   "execution_count": 6,
   "metadata": {
    "collapsed": false,
    "nbpresent": {
     "id": "a9a1ca91-d326-4994-a5e4-f41267d6e18c"
    }
   },
   "outputs": [
    {
     "name": "stdout",
     "output_type": "stream",
     "text": [
      "Processed feature columns (16):-\n",
      "[u'Employed In Past 6 Months', u'Gender_F', u'Gender_M', u'Age', u'State_al', u'State_fl', u'State_ga', u'State_la', u'State_sc', u'Education Level_College Dropout ', u'Education Level_College Graduate', u'Education Level_High School Drop Out', u'Education Level_High School Graduate', u'Education Level_Technical School', u'OFFICE/MANUAL_MANUAL', u'OFFICE/MANUAL_OFFICE']\n"
     ]
    }
   ],
   "source": [
    "# Convert the target feature Y/N -Placement Successful- to 1/0\n",
    "y_all = y_all.replace({'Y':1, 'N':0})\n",
    "\n",
    "def preprocess_features(X):\n",
    "    outX = pd.DataFrame(index=X.index)  # output dataframe, initially empty\n",
    "\n",
    "    # Check each column\n",
    "    for col, col_data in X.iteritems():\n",
    "        # If data type is non-numeric, try to replace all yes/no values with 1/0\n",
    "        if col_data.dtype == object:\n",
    "            col_data = col_data.replace(['Yes', 'No'], [1, 0])\n",
    "        # Note: This should change the data type for yes/no columns to int\n",
    "\n",
    "        # If still non-numeric, convert to one or more dummy variables\n",
    "        if col_data.dtype == object:\n",
    "            col_data = pd.get_dummies(col_data, prefix=col)  # e.g. 'state' => 'state_AL', 'state_GA'\n",
    "\n",
    "        outX = outX.join(col_data)  # collect column(s) in output dataframe\n",
    "\n",
    "    return outX\n",
    "\n",
    "x_all = preprocess_features(x_all)\n",
    "\n",
    "print \"Processed feature columns ({}):-\\n{}\".format(len(x_all.columns), list(x_all.columns))"
   ]
  },
  {
   "cell_type": "markdown",
   "metadata": {
    "nbpresent": {
     "id": "8de53859-994f-4940-bc63-e5ddf1295a82"
    }
   },
   "source": [
    "#### Split data into training and test sets\n",
    "\n",
    "So far, we have converted all _categorical_ features into numeric. In this next step, we split the data (both features and targets) into training and test sets. We will use this data to create a model that will be tested against the final data from Origami."
   ]
  },
  {
   "cell_type": "code",
   "execution_count": 7,
   "metadata": {
    "collapsed": false,
    "nbpresent": {
     "id": "3f941132-6cd4-4036-9c8e-c9247d7e9302"
    }
   },
   "outputs": [
    {
     "name": "stdout",
     "output_type": "stream",
     "text": [
      "Training set: 149 samples\n",
      "Test set: 38 samples\n"
     ]
    }
   ],
   "source": [
    "import sklearn.cross_validation as cv\n",
    "\n",
    "x_all_train, x_all_test, y_all_train, y_all_test = cv.train_test_split(x_all, y_all, test_size=.2, random_state=12)\n",
    "\n",
    "print \"Training set: {} samples\".format(x_all_train.shape[0])\n",
    "print \"Test set: {} samples\".format(x_all_test.shape[0])"
   ]
  },
  {
   "cell_type": "code",
   "execution_count": 8,
   "metadata": {
    "collapsed": false,
    "nbpresent": {
     "id": "5a0e4eaf-281f-4b9d-b373-4be3d8c53f63"
    }
   },
   "outputs": [],
   "source": [
    "y_all_train = y_all_train['Placement Successful'].values\n",
    "y_all_test = y_all_test['Placement Successful'].values\n"
   ]
  },
  {
   "cell_type": "markdown",
   "metadata": {
    "nbpresent": {
     "id": "16590080-905e-44e5-a603-a70dd9e12424"
    }
   },
   "source": [
    "### 3. Training and Evaluating Models\n",
    "\n",
    "#### Running multiple trials and finding the mean accuracy of classifier\n",
    "\n",
    "As the dataset is relatively small and the results can vary from run to run. We will average 50 trials to find the most likely probability to our future predictions, assuming we do not overfit too much."
   ]
  },
  {
   "cell_type": "code",
   "execution_count": 9,
   "metadata": {
    "collapsed": false,
    "nbpresent": {
     "id": "549d671d-cf7e-455a-ae73-8a685d789869"
    }
   },
   "outputs": [
    {
     "name": "stdout",
     "output_type": "stream",
     "text": [
      "The average score for this classifier over 50 trials is 81.65%\n"
     ]
    }
   ],
   "source": [
    "# Import the random forest package\n",
    "from sklearn.ensemble import RandomForestClassifier \n",
    "all_scores = []\n",
    "\n",
    "for x in range(50):\n",
    "    x_all_train, x_all_test, y_all_train, y_all_test = cv.train_test_split(x_all, y_all, test_size=.3)\n",
    "    clf = RandomForestClassifier(n_estimators = 30)\n",
    "    clf = clf.fit(x_all_train,y_all_train.values.ravel())\n",
    "    all_scores.append(clf.score(x_all_test, y_all_test.values))\n",
    "\n",
    "print \"The average score for this classifier over 50 trials is {:.2%}\".format(np.mean(all_scores))"
   ]
  },
  {
   "cell_type": "markdown",
   "metadata": {
    "nbpresent": {
     "id": "9b187e1c-b7a1-4baa-bf03-21f56909573c"
    }
   },
   "source": [
    "#### Most important features\n",
    "\n",
    "With the plot below it appears that age and employment status of the past 6 months are both important indicators of future success."
   ]
  },
  {
   "cell_type": "code",
   "execution_count": 10,
   "metadata": {
    "collapsed": false,
    "nbpresent": {
     "id": "6837a915-d356-462f-9241-621fa71389cb"
    }
   },
   "outputs": [
    {
     "data": {
      "text/plain": [
       "<matplotlib.text.Text at 0x7d90070>"
      ]
     },
     "execution_count": 10,
     "metadata": {},
     "output_type": "execute_result"
    },
    {
     "data": {
      "image/png": "[encoded data removed]",
      "text/plain": [
       "<matplotlib.figure.Figure at 0x851c6d0>"
      ]
     },
     "metadata": {},
     "output_type": "display_data"
    }
   ],
   "source": [
    "import matplotlib.pyplot as plt\n",
    "from sklearn.ensemble import RandomForestRegressor\n",
    "%matplotlib inline\n",
    "\n",
    "clf = RandomForestClassifier(n_estimators = 50)\n",
    "clf = clf.fit(x_all_train,y_all_train.values.ravel())\n",
    "clf.score(x_all_test, y_all_test.values)\n",
    "\n",
    "importances = clf.feature_importances_\n",
    "features = x_all_train.columns\n",
    "indices = np.argsort(importances)\n",
    " \n",
    "plt.figure(1)\n",
    "plt.title('Feature Importances')\n",
    "plt.barh(range(len(indices)), importances[indices], color='b', align='center')\n",
    "plt.yticks(range(len(indices)), features[indices])\n",
    "\n",
    "plt.xlabel('Relative Importance')"
   ]
  },
  {
   "cell_type": "code",
   "execution_count": 11,
   "metadata": {
    "collapsed": false,
    "nbpresent": {
     "id": "e1bf2a6f-69b3-4f4b-a748-205a02f4b892"
    }
   },
   "outputs": [
    {
     "data": {
      "image/png": "[encoded data removed]",
      "text/plain": [
       "<matplotlib.figure.Figure at 0x72df810>"
      ]
     },
     "metadata": {},
     "output_type": "display_data"
    }
   ],
   "source": [
    "from sklearn.metrics import roc_curve, auc\n",
    "\n",
    "clf = clf.fit(x_all_train,y_all_train.values.ravel())\n",
    "preds = clf.predict(x_all_test)\n",
    "\n",
    "false_positive_rate, true_positive_rate, thresholds = roc_curve(y_all_test.values.ravel(),preds)\n",
    "roc_auc = auc(false_positive_rate, true_positive_rate)\n",
    "\n",
    "plt.title('ROC Curve for Random Forest Model')\n",
    "plt.plot(false_positive_rate, true_positive_rate, 'b',\n",
    "label='AUC = %0.2f'% roc_auc)\n",
    "plt.legend(loc='lower right')\n",
    "plt.plot([0,1],[0,1],'r--')\n",
    "\n",
    "plt.ylabel('True Positive Rate')\n",
    "plt.xlabel('False Positive Rate')\n",
    "plt.show()"
   ]
  },
  {
   "cell_type": "code",
   "execution_count": 16,
   "metadata": {
    "collapsed": false
   },
   "outputs": [
    {
     "name": "stdout",
     "output_type": "stream",
     "text": [
      "The false positive rate is 23.53%\n",
      "The true positive rate is 92.50%\n"
     ]
    }
   ],
   "source": [
    "print \"The false positive rate is {:.2%}\".format(false_positive_rate[1])\n",
    "print \"The true positive rate is {:.2%}\".format(true_positive_rate[1])\n"
   ]
  },
  {
   "cell_type": "code",
   "execution_count": null,
   "metadata": {
    "collapsed": true
   },
   "outputs": [],
   "source": []
  }
 ],
 "metadata": {
  "anaconda-cloud": {},
  "kernelspec": {
   "display_name": "Python [Root]",
   "language": "python",
   "name": "Python [Root]"
  },
  "language_info": {
   "codemirror_mode": {
    "name": "ipython",
    "version": 2
   },
   "file_extension": ".py",
   "mimetype": "text/x-python",
   "name": "python",
   "nbconvert_exporter": "python",
   "pygments_lexer": "ipython2",
   "version": "2.7.11"
  }
 },
 "nbformat": 4,
 "nbformat_minor": 0
}
