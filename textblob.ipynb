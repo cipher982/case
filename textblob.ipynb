{
 "cells": [
  {
   "cell_type": "code",
   "execution_count": 49,
   "metadata": {
    "collapsed": false
   },
   "outputs": [
    {
     "name": "stdout",
     "output_type": "stream",
     "text": [
      "worker data read successfully!\n",
      "(199, 9)\n"
     ]
    }
   ],
   "source": [
    "from textblob import TextBlob\n",
    "import numpy as np\n",
    "import pandas as pd\n",
    "\n",
    "xls_file = pd.ExcelFile(\"Origami_Data.xlsx\", encoding = 'utf-16')\n",
    "worker_data = xls_file.parse('Client Information')\n",
    "print \"worker data read successfully!\"\n",
    "print np.shape(worker_data)\n",
    "comments = worker_data[\"Comments from the employer\"]    \n",
    "\n",
    "comments_list = comments.tolist()\n",
    "\n",
    "neww = []\n",
    "for comment in comments_list:\n",
    "    if type(comment) is float:\n",
    "        neww.append(\"TTTT\")\n",
    "    if type(comment) is unicode:\n",
    "        neww.append(comment)\n",
    "\n",
    "\n",
    "scores = []\n",
    "for comment in neww:\n",
    "    testimonial = TextBlob(comment)\n",
    "    scores.append(testimonial.sentiment.polarity * testimonial.sentiment.subjectivity)\n",
    "worker_data[\"Sentiment\"] = scores"
   ]
  },
  {
   "cell_type": "code",
   "execution_count": 55,
   "metadata": {
    "collapsed": false
   },
   "outputs": [
    {
     "name": "stdout",
     "output_type": "stream",
     "text": [
      "score is positive\n",
      "score is positive\n",
      "score is positive\n",
      "score is positive\n",
      "score is positive\n",
      "score is positive\n",
      "score is positive\n",
      "score is positive\n",
      "score is positive\n",
      "score is positive\n",
      "score is positive\n",
      "score is positive\n",
      "score is positive\n",
      "score is positive\n",
      "score is positive\n",
      "score is positive\n",
      "score is positive\n",
      "score is positive\n",
      "score is positive\n",
      "score is positive\n",
      "score is positive\n",
      "score is positive\n",
      "score is positive\n"
     ]
    },
    {
     "data": {
      "text/plain": [
       "0"
      ]
     },
     "execution_count": 55,
     "metadata": {},
     "output_type": "execute_result"
    }
   ],
   "source": [
    "new_score = 0\n",
    "for score in scores:\n",
    "    if score > 0:\n",
    "        score += 1\n",
    "        print \"score is positive\"\n",
    "    if score < 0:\n",
    "        score += -2\n",
    "    else:\n",
    "        pass\n",
    "\n",
    "new_score"
   ]
  },
  {
   "cell_type": "code",
   "execution_count": 47,
   "metadata": {
    "collapsed": false
   },
   "outputs": [
    {
     "name": "stdout",
     "output_type": "stream",
     "text": [
      "worker data read successfully!\n",
      "(199, 9)\n"
     ]
    },
    {
     "data": {
      "text/plain": [
       "Sentiment(polarity=0.2213023088023088, subjectivity=0.5242862296433726)"
      ]
     },
     "execution_count": 47,
     "metadata": {},
     "output_type": "execute_result"
    }
   ],
   "source": [
    "from textblob import TextBlob\n",
    "import numpy as np\n",
    "import pandas as pd\n",
    "\n",
    "xls_file = pd.ExcelFile(\"Origami_Data.xlsx\", encoding = 'utf-16')\n",
    "worker_data = xls_file.parse('Client Information')\n",
    "print \"worker data read successfully!\"\n",
    "print np.shape(worker_data)\n",
    "comments = worker_data[\"Comments from the employer\"]    \n",
    "\n",
    "comments_list = comments.tolist()\n",
    "\n",
    "neww = []\n",
    "for comment in comments_list:\n",
    "    if type(comment) is float:\n",
    "        neww.append(\"TTTT\")\n",
    "    if type(comment) is unicode:\n",
    "        neww.append(comment)\n",
    "        \n",
    "comments = pd.Series(comments).str.cat(sep='.')\n",
    "text = comments\n",
    "testimonial = TextBlob(text)\n",
    "testimonial.sentiment"
   ]
  },
  {
   "cell_type": "code",
   "execution_count": 48,
   "metadata": {
    "collapsed": false
   },
   "outputs": [
    {
     "name": "stdout",
     "output_type": "stream",
     "text": [
      "Good worker. Willing to work extra hours..Seems to have working knowledge but hard to keep them at the office.Like the process but definitely not a good fit with this candidate.Was late to work .You need better screening before sending us people.Late to work.Once we found a good fit for them, they have been doing well.Thank you for finding someone. Simply didn’t work out..Works a lot, promotion is going to be given.Employee retired.Hard to balance their schedule with health needs.Fantastic worker.Happy so far with the placement.Health issues on the job. Not a good fit. Manual labor was too tiring. .Error rate was unnaceptable.Many unscheduled absences.No reliable mode of transportation.Your process made this very difficult.Thank you .Thank you for finding a good fit such short notice.Have enjoyed his work immensely.Thank you for continued partnership.Happy so far with the placement.thx.Not impressed with you or employee.simply didn't work. She quit 2 weeks in.We get a lot of people by the has worked out so far.Not happy with the process. Took way too long to find placement.Good fit.Late to work. Did not follow instruction well.No reliable mode of transportation.Constantly late.You did not do a good job with the fit. Interview more thoroughly.Heavy manual labor for someone his age. Felt like it was a health risk. Your job to catch this and I'm a little let down..NEVER SHOWED UP FOR WORK.Very dissapointed. Didn't have the skills we were asking for. Never using the company again for finding future employees.Love the employee.Thank you for finding such a fast fit.Exactly who we needed.Wasn’t able to do the work.Great service! The worker just didn’t work this time. Thank you for everything.He got moved to full time at our company, so on paper this looks negative for y'all, but I just want you to know it wasn't a bad thing.I don't like your service..Gave y'all a shot but not worth it with the bonus and annual feel. Moving hiring to all internal.Thank you! .Not happy with this employee but overall great company.Error rate was unnaceptable.Late .Caught stealing from register. Immediately terminated. .THANKS.Annual fee is not worth this service.Can we have more resources on training new employees\n"
     ]
    }
   ],
   "source": [
    "print text"
   ]
  }
 ],
 "metadata": {
  "kernelspec": {
   "display_name": "Python [Root]",
   "language": "python",
   "name": "Python [Root]"
  },
  "language_info": {
   "codemirror_mode": {
    "name": "ipython",
    "version": 2
   },
   "file_extension": ".py",
   "mimetype": "text/x-python",
   "name": "python",
   "nbconvert_exporter": "python",
   "pygments_lexer": "ipython2",
   "version": "2.7.11"
  }
 },
 "nbformat": 4,
 "nbformat_minor": 0
}
